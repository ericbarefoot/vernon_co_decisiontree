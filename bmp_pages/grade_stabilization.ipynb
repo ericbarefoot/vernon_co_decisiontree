{
 "cells": [
  {
   "cell_type": "markdown",
   "id": "3759b274-14df-44b1-a237-55471000e8d7",
   "metadata": {},
   "source": [
    "# Grade Stabilization Structures\n",
    "\n",
    "```{image} bmp-images/conservation-cover.png\n",
    ":alt: Example of conservation cover\n",
    ":class: bg-primary mb-1\n",
    ":width: 50%\n",
    ":align: center\n",
    "```\n",
    "\n",
    "```{admonition} Definition\n",
    ":class: note\n",
    "A small dam or farm pond that prevents erosion by holding water back\n",
    "```\n",
    "\n",
    "Why it works: Grade stabilization structures are essentially small dams. If unchecked, flowing water in a ditch or gully may scour the soil and steepen the channel. Building a grade stabilization structure can be a useful way to prevent erosion because it forces the water to pond behind the grade control structure. Grade stabilization structures also retain water and then slowly release it downstream.  Because they are essentially small dams holding small amounts of water, many of them spread across the county can simulate the effect of a few large dams.  \n",
    "\n",
    "```{admonition} Definition\n",
    ":class: attention\n",
    "Installing a grade stabilization structure on your property can be a big undertaking, because there are several important regulations to follow to make sure the grade stabilization structure is safe.  In addition, over time you have to make sure to maintain the structure and check to make sure that it is in good working order. This practice is best undertaken with consultation with your county soil and water conservation officer.\n",
    "```\n",
    "\n",
    "_Grade Stabilization Structures are very similar to other best management practices. For example, if you build a sediment stilling basin (NRCS code 350), you are building a kind of grade stabilization structure. Other similar practices include:_\n",
    "\n",
    ":::{card} Click here to explore the USDA NRCS documentation\n",
    ":link: https://efotg.sc.egov.usda.gov/api/CPSFile/31550/410_WI_CPS_Grade_Stabilization_Structure_2021\n",
    ":link-type: url\n",
    ":::\n",
    "\n",
    "| Benefits | Drawbacks |\n",
    "|---|---|\n",
    "| Farm ponds retain water | Requires careful engineering |\n",
    "| Grade stabilization prevents runaway erosion | Can be expensive |\n",
    "| Helps prevent floods on your land and downstream |  |\n",
    "<!-- | Farm ponds retain water | Requires mowing and maintenance | -->\n",
    "\n",
    "\n",
    "\n"
   ]
  }
 ],
 "metadata": {
  "kernelspec": {
   "display_name": "Python 3 (ipykernel)",
   "language": "python",
   "name": "python3"
  },
  "language_info": {
   "codemirror_mode": {
    "name": "ipython",
    "version": 3
   },
   "file_extension": ".py",
   "mimetype": "text/x-python",
   "name": "python",
   "nbconvert_exporter": "python",
   "pygments_lexer": "ipython3",
   "version": "3.11.1"
  }
 },
 "nbformat": 4,
 "nbformat_minor": 5
}
