{
 "cells": [
  {
   "cell_type": "markdown",
   "id": "86b31336-c061-4e2e-ad9c-133444a2f6dd",
   "metadata": {},
   "source": [
    "# Contour Buffer Strips\n",
    "\n",
    "```{image} bmp-images/contour-buffer.png\n",
    ":alt: Example of contour buffer strip\n",
    ":class: bg-primary mb-1\n",
    ":width: 50%\n",
    ":align: center\n",
    "```\n",
    "\n",
    "```{admonition} Definition\n",
    ":class: note\n",
    "Leaving a permanent strip of non-crop vegetation (perennial grass, shrubs,  etc.) in areas adjacent to production strips.\n",
    "```\n",
    "\n",
    "How it works: When water is running across a field, it carries soil particles. If you put buffer strips between production strips along the contour in your field, it puts a permanent barrier perpendicular to the water’s path. This makes the water slow down, and drop its soil particles in the buffer strip. This intervention is conceptually similar to a filter strip, but is planted and maintained along a contour, rather than at the end of furrow plantings.\n",
    "\n",
    ":::{card} Click here to explore the USDA NRCS documentation\n",
    ":link: https://efotg.sc.egov.usda.gov/api/CPSFile/2987/332_WI_CPS_(Con)tour_Buffer_Strips_2016\n",
    ":link-type: url\n",
    ":::\n",
    "\n",
    "| Benefits | Drawbacks |\n",
    "|---|---|\n",
    "| Effective way to slow erosion | Requires new planting patterns and planning |\n",
    "| No new infrastructure required | Removes a strip of land from production |\n",
    "| Increases water infiltration | Strip needs maintenance |\n",
    "| GPS technology makes farming along contours easy |  |\n"
   ]
  }
 ],
 "metadata": {
  "kernelspec": {
   "display_name": "Python 3 (ipykernel)",
   "language": "python",
   "name": "python3"
  },
  "language_info": {
   "codemirror_mode": {
    "name": "ipython",
    "version": 3
   },
   "file_extension": ".py",
   "mimetype": "text/x-python",
   "name": "python",
   "nbconvert_exporter": "python",
   "pygments_lexer": "ipython3",
   "version": "3.11.1"
  }
 },
 "nbformat": 4,
 "nbformat_minor": 5
}
