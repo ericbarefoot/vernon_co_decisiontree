{
 "cells": [
  {
   "cell_type": "markdown",
   "id": "6b5c1abd-be9a-4a30-adaf-384476476dc1",
   "metadata": {},
   "source": [
    "# Riparian Forest Buffer\n",
    "\n",
    "```{image} bmp-images/conservation-cover.png\n",
    ":alt: Example of conservation cover\n",
    ":class: bg-primary mb-1\n",
    ":width: 50%\n",
    ":align: center\n",
    "```\n",
    "\n",
    "```{admonition} Definition\n",
    ":class: note\n",
    "Leaving a permanent forest surrounding the riverbanks.\n",
    "```\n",
    "\n",
    "How it works:  The riparian zone is the area immediately around  any river, stream, or natural waterway.  This is the last boundary between runoff water  and water that goes directly into the river system. Because it is the last chance to stop sediment, water, and pollution from entering the river,  it is the last line of defense and a great opportunity to slow down water and prevent flooding downstream. BMP interventions in the riparian zone create obstacles to flowing water  and sediment.  Tree trunks, shrubs, and other vegetation are all very good natural obstacles to the flow of water. If you establish thick riparian buffers on your natural waterways, you can help slow down runoff from your land and prevent it from flooding your neighbors downstream.\n",
    "\n",
    ":::{card} Click here to explore the USDA NRCS documentation\n",
    ":link: https://efotg.sc.egov.usda.gov/api/CPSFile/40886/391_WI_CPS_Riparian_Forest_Buffer_2022\n",
    ":link-type: url\n",
    ":::\n",
    "\n",
    "| Benefits | Drawbacks |\n",
    "|---|---|\n",
    "| Effective way to slow erosion | Removes land from production indefinitely |\n",
    "| No new infrastructure required | Requires logging and management |\n",
    "| Increases water infiltration | |\n",
    "| Restores soil health |  |\n"
   ]
  }
 ],
 "metadata": {
  "kernelspec": {
   "display_name": "Python 3 (ipykernel)",
   "language": "python",
   "name": "python3"
  },
  "language_info": {
   "codemirror_mode": {
    "name": "ipython",
    "version": 3
   },
   "file_extension": ".py",
   "mimetype": "text/x-python",
   "name": "python",
   "nbconvert_exporter": "python",
   "pygments_lexer": "ipython3",
   "version": "3.11.1"
  }
 },
 "nbformat": 4,
 "nbformat_minor": 5
}
