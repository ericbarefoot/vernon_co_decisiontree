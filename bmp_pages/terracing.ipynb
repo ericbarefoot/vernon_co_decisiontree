{
 "cells": [
  {
   "cell_type": "markdown",
   "id": "3759b274-14df-44b1-a237-55471000e8d7",
   "metadata": {},
   "source": [
    "# Terracing\n",
    "\n",
    "```{image} bmp-images/conservation-cover.png\n",
    ":alt: Example of conservation cover\n",
    ":class: bg-primary mb-1\n",
    ":width: 50%\n",
    ":align: center\n",
    "```\n",
    "\n",
    "```{admonition} Definition\n",
    ":class: note\n",
    "Cutting and filling on steep fields to make flat benches where fields used to be steep.\n",
    "```\n",
    "\n",
    "Why it works:  In places where farm fields are exceptionally steep, there may be no reasonable way to prevent soil erosion, because water flowing down the slope picks up soil particles as it runs downstream. One solution in these kinds of environments could be to transform the landscape  into terraces. By cutting steps in the hill slope, pushing the soil and rock downhill, and then creating a flat surface,  a steep slope can be transformed into a much less erodible field.  However, this creates new issues. For example the cut face and the downslope  face of the terrace are both  steep and unstable, and they need to be stabilized with retaining walls. Additionally, water that used to flow downhill can now collect and fool on the terraces.  transforming the landscape in this way requires a lot of careful thought and planning, and is very expensive to achieve. However it might be a good solution in your case.  If you're interested in implementing this practice, consider contacting the county conservation officer.\n",
    "\n",
    ":::{card} Click here to explore the USDA NRCS documentation -- **needs link**\n",
    ":link: \n",
    ":link-type: url\n",
    ":::\n",
    "\n",
    "| Benefits | Drawbacks |\n",
    "|---|---|\n",
    "| Makes long-term care of steep farms easier | Requires careful engineering |\n",
    "| Regrading prevents runaway erosion | Can be very expensive |\n",
    "| Water and nutrient management can be targeted to individual fields |  |\n",
    "\n",
    "\n",
    "\n"
   ]
  }
 ],
 "metadata": {
  "kernelspec": {
   "display_name": "Python 3 (ipykernel)",
   "language": "python",
   "name": "python3"
  },
  "language_info": {
   "codemirror_mode": {
    "name": "ipython",
    "version": 3
   },
   "file_extension": ".py",
   "mimetype": "text/x-python",
   "name": "python",
   "nbconvert_exporter": "python",
   "pygments_lexer": "ipython3",
   "version": "3.11.1"
  }
 },
 "nbformat": 4,
 "nbformat_minor": 5
}
