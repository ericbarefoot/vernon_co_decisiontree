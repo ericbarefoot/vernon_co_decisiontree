{
 "cells": [
  {
   "cell_type": "markdown",
   "id": "2590329f-fbf6-4f10-a0dc-759d5d0cb3a7",
   "metadata": {},
   "source": [
    "# Field Borders\n",
    "\n",
    "```{image} bmp-images/conservation-cover.png\n",
    ":alt: Example of conservation cover\n",
    ":class: bg-primary mb-1\n",
    ":width: 50%\n",
    ":align: center\n",
    "```\n",
    "\n",
    "```{admonition} Definition\n",
    ":class: note\n",
    "Leaving a permanent planting of vegetation cover on the margins of your field.\n",
    "```\n",
    "\n",
    "How it works: When water is running across a field, it carries soil particles. If you put buffer strips  around the edges of your field, it puts a permanent barrier perpendicular to the water’s path. This makes the water slow down, and drop its soil particles in the buffer strip. This intervention is conceptually similar to a filter strip, but is planted and maintained around the edge of a field, rather than at the end of furrow plantings  or along contours.\n",
    "\n",
    ":::{card} Click here to explore the USDA NRCS documentation\n",
    ":link: https://efotg.sc.egov.usda.gov/api/CPSFile/3209/386_WI_CPS_Field_Border_2017\n",
    ":link-type: url\n",
    ":::\n",
    "\n",
    "| Benefits | Drawbacks |\n",
    "|---|---|\n",
    "| Effective way to slow erosion | Removes land from production indefinitely |\n",
    "| No new infrastructure required | Requires mowing and maintenance |\n",
    "| Increases water infiltration | |\n",
    "| Restores soil health |  |\n",
    "| Field margins rarely as productive as center | | "
   ]
  }
 ],
 "metadata": {
  "kernelspec": {
   "display_name": "Python 3 (ipykernel)",
   "language": "python",
   "name": "python3"
  },
  "language_info": {
   "codemirror_mode": {
    "name": "ipython",
    "version": 3
   },
   "file_extension": ".py",
   "mimetype": "text/x-python",
   "name": "python",
   "nbconvert_exporter": "python",
   "pygments_lexer": "ipython3",
   "version": "3.11.1"
  }
 },
 "nbformat": 4,
 "nbformat_minor": 5
}
