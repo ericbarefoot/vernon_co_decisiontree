{
 "cells": [
  {
   "cell_type": "markdown",
   "id": "6b5c1abd-be9a-4a30-adaf-384476476dc1",
   "metadata": {},
   "source": [
    "# Streambank Protection\n",
    "\n",
    "```{admonition} Head's up!\n",
    ":class: danger\n",
    "Streambank protection projects can be very valuable for your land, for the environment and for the community. However, they are **expensive** and they are **challenging**, so you want to get it right the first time. If they are not executed well, you may not get much benefit, and the outcomes can get you in trouble with environmental regulations. If you are considering doing this on your land, it can be a great choice, but you should seek help from your Land and Water Conservation office. They can help you navigate the regulations and seek funding to cover your expenses. Make sure your project doesn't backfire!\n",
    "```\n",
    "\n",
    "```{image} bmp-images/conservation-cover.png\n",
    ":alt: Example of conservation cover\n",
    ":class: bg-primary mb-1\n",
    ":width: 50%\n",
    ":align: center\n",
    "```\n",
    "\n",
    "```{admonition} Definition\n",
    ":class: note\n",
    "Building physical structures to stabilize stream banks, and protect them from eroding.\n",
    "```\n",
    "\n",
    "Why it works:  Streambank erosion is a major source of sediment pollution in rivers, and it also eats away at farmable land, and destroys soil. flowing water in the river undercuts the sediment that makes up the riverbank, which makes it steeper and causes it to fail by slumping into the river. This happens in lowland rivers and in smaller streams.  Streambank erosion can make the river wider and destroy habitat for fish.  By building a physical structure to protect the stream bank, you can prevent downstream effects of sediment pollution, and also protect  your land next to the river from getting eroded away.  There are lots of different options for physical streambank protection structures.  Some popular kinds include gabion baskets, rip rap, or retaining walls.  These options can often be expensive to install, difficult to maintain, and have limited lifespans.  Other options include laying  logs or large branches on the riverbank, and a variety of other biodegradable stream protection products.  Some advantages of these is that they don't require any cleanup after their useful life is over.  You can speak to the county conservation officer for more details about this practice if you are interested  in applying it on your land.\n",
    "\n",
    ":::{card} Click here to explore the USDA NRCS documentation\n",
    ":link: https://efotg.sc.egov.usda.gov/api/CPSFile/32632/580_WI_CPS_Streambank_and_Shoreline_Protection_2021\n",
    ":link-type: url\n",
    ":::\n",
    "\n",
    "| Benefits | Drawbacks |\n",
    "|---|---|\n",
    "| Effective way to slow erosion | Removes land from production indefinitely |\n",
    "| Improves stream health | Can be very costly |\n",
    "| Increases water quality | Regulations make it difficult to do right |\n",
    "| Can enhance habitat for wildlife |  |\n"
   ]
  }
 ],
 "metadata": {
  "kernelspec": {
   "display_name": "Python 3 (ipykernel)",
   "language": "python",
   "name": "python3"
  },
  "language_info": {
   "codemirror_mode": {
    "name": "ipython",
    "version": 3
   },
   "file_extension": ".py",
   "mimetype": "text/x-python",
   "name": "python",
   "nbconvert_exporter": "python",
   "pygments_lexer": "ipython3",
   "version": "3.11.1"
  }
 },
 "nbformat": 4,
 "nbformat_minor": 5
}
