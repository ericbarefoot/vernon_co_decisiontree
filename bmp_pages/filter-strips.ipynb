{
 "cells": [
  {
   "cell_type": "markdown",
   "id": "388fc6dc-be2d-42c6-abd7-b4ed3740ee70",
   "metadata": {},
   "source": [
    "# Filter Strips\n",
    "\n",
    "```{image} bmp-images/conservation-cover.png\n",
    ":alt: Example of conservation cover\n",
    ":class: bg-primary mb-1\n",
    ":width: 50%\n",
    ":align: center\n",
    "```\n",
    "\n",
    "```{admonition} Definition\n",
    ":class: note\n",
    "Leaving a permanent planting of vegetation cover on the downstream end of your field.\n",
    "```\n",
    "\n",
    "How it works: When water is running across a field, it carries soil particles. If you plant and maintain permanent vegetation at the downstream edges of your field, it puts a permanent barrier in the water’s path. This makes the water slow down and drop its soil particles in the filter strip. This intervention is conceptually similar to a buffer strip, but it is planted and maintained specifically at the end of furrow plantings or at the downstream end of a field. The strategy is intended to catch the particles before they enter waterways,  for they can pollute waterways and also add additional water , increasing flood intensity.\n",
    "\n",
    ":::{card} Click here to explore the USDA NRCS documentation\n",
    ":link: https://efotg.sc.egov.usda.gov/api/CPSFile/3215/393_WI_CPS_Filter_Strip_2017\n",
    ":link-type: url\n",
    ":::\n",
    "\n",
    "| Benefits | Drawbacks |\n",
    "|---|---|\n",
    "| Effective way to slow erosion | Removes land from production indefinitely |\n",
    "| No new infrastructure required | Requires mowing and maintenance |\n",
    "| Increases water infiltration | |\n",
    "| Prevents water pollution |  |"
   ]
  }
 ],
 "metadata": {
  "kernelspec": {
   "display_name": "Python 3 (ipykernel)",
   "language": "python",
   "name": "python3"
  },
  "language_info": {
   "codemirror_mode": {
    "name": "ipython",
    "version": 3
   },
   "file_extension": ".py",
   "mimetype": "text/x-python",
   "name": "python",
   "nbconvert_exporter": "python",
   "pygments_lexer": "ipython3",
   "version": "3.11.1"
  }
 },
 "nbformat": 4,
 "nbformat_minor": 5
}
