{
 "cells": [
  {
   "cell_type": "markdown",
   "id": "a3ca0d50-57ae-4197-a1e7-ba57bb678677",
   "metadata": {},
   "source": [
    "# BMPs on Fields and pasture\n",
    "\n",
    "Pellentesque varius lectus urna, scelerisque lacinia turpis consequat eu. Phasellus suscipit risus sit amet ullamcorper varius. Fusce at nisi bibendum, fringilla eros vitae, pharetra massa. Fusce fringilla, urna ac rhoncus finibus, velit tortor suscipit mi, sit amet bibendum mi enim in velit. Praesent mollis euismod congue. Aliquam commodo sed nisi vel pulvinar. Nam elit purus, porta sit amet ante at, sodales commodo neque. Nunc lobortis lacinia tortor, vitae consectetur ipsum mattis gravida. Proin et pharetra felis. Aenean a elementum lorem.\n",
    "\n",
    "- [link]()\n",
    "- [link]()\n",
    "- [link]()\n",
    "- [link]()\n"
   ]
  }
 ],
 "metadata": {
  "kernelspec": {
   "display_name": "Python 3 (ipykernel)",
   "language": "python",
   "name": "python3"
  },
  "language_info": {
   "codemirror_mode": {
    "name": "ipython",
    "version": 3
   },
   "file_extension": ".py",
   "mimetype": "text/x-python",
   "name": "python",
   "nbconvert_exporter": "python",
   "pygments_lexer": "ipython3",
   "version": "3.11.1"
  }
 },
 "nbformat": 4,
 "nbformat_minor": 5
}
