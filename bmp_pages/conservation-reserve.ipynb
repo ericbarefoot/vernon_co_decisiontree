{
 "cells": [
  {
   "cell_type": "markdown",
   "id": "1e3d0ec5-47bc-412f-b05d-5b1bf77fd17b",
   "metadata": {},
   "source": [
    "# Conservation Reserve Program (Conservation Cover)\n",
    "\n",
    "```{image} bmp-images/conservation-cover.png\n",
    ":alt: Example of conservation cover\n",
    ":class: bg-primary mb-1\n",
    ":width: 50%\n",
    ":align: center\n",
    "```\n",
    "\n",
    "```{admonition} Definition\n",
    ":class: note\n",
    "Leaving a permanent planting of vegetation cover over retired land.\n",
    "```\n",
    "\n",
    "How it works:  Sometimes, your surrounding environment needs the land to recover for some time before it can go back into production. One way to protect water resources, limit floods, and protect and develop new soils is to establish and maintain perennial vegetation cover on retired land.  This allows the land to recover and puts new nutrients and carbon into the soil.\n",
    "\n",
    ":::{card} Click here to explore the USDA NRCS documentation\n",
    ":link: https://efotg.sc.egov.usda.gov/api/CPSFile/1500/327_WI_CPS_(Con)servation_Cover_2013\n",
    ":link-type: url\n",
    ":::\n",
    "\n",
    "| Benefits | Drawbacks |\n",
    "|---|---|\n",
    "| Effective way to slow erosion | Requires mowing and maintenance |\n",
    "| No new infrastructure required | Removes land from production indefinitely |\n",
    "| Increases water infiltration | |\n",
    "| Restores soil health |  |"
   ]
  }
 ],
 "metadata": {
  "kernelspec": {
   "display_name": "Python 3 (ipykernel)",
   "language": "python",
   "name": "python3"
  },
  "language_info": {
   "codemirror_mode": {
    "name": "ipython",
    "version": 3
   },
   "file_extension": ".py",
   "mimetype": "text/x-python",
   "name": "python",
   "nbconvert_exporter": "python",
   "pygments_lexer": "ipython3",
   "version": "3.11.1"
  }
 },
 "nbformat": 4,
 "nbformat_minor": 5
}
