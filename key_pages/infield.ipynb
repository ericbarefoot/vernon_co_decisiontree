{
 "cells": [
  {
   "cell_type": "markdown",
   "id": "e744425e-d469-4281-9c98-642773bb4eb2",
   "metadata": {},
   "source": [
    "# In-Field BMPs\n",
    "\n",
    "Text Text Text Text Text Text Text Text Text Text Text Text Text Text Text Text Text Text Text Text Text Text Text Text Text Text Text Text Text Text Text Text Text Text Text Text Text Text Text Text Text Text Text Text Text Text Text Text Text Text Text Text Text Text Text Text Text Text Text Text Text Text Text Text \n",
    "\n",
    ":::{card} No-Till\n",
    ":link: ../bmp_pages/notill\n",
    ":link-type: doc\n",
    ":::\n",
    "\n",
    ":::{card} Organic No-Till\n",
    ":link: ../bmp_pages/organic-notill\n",
    ":link-type: doc\n",
    ":::\n",
    "\n",
    ":::{card} Contour Strip Cropping\n",
    ":link: ../bmp_pages/contour-strips\n",
    ":link-type: doc\n",
    ":::\n",
    "\n",
    ":::{card} Cover Crops\n",
    ":link: ../bmp_pages/cover-crops\n",
    ":link-type: doc\n",
    ":::\n",
    "\n",
    ":::{card} Contour Buffer Strips\n",
    ":link: ../bmp_pages/contour-buffer-strips\n",
    ":link-type: doc\n",
    ":::\n",
    "\n",
    ":::{card} Conservation Reserve Program\n",
    ":link: ../bmp_pages/conservation-reserve\n",
    ":link-type: doc\n",
    ":::"
   ]
  }
 ],
 "metadata": {
  "kernelspec": {
   "display_name": "Python 3 (ipykernel)",
   "language": "python",
   "name": "python3"
  },
  "language_info": {
   "codemirror_mode": {
    "name": "ipython",
    "version": 3
   },
   "file_extension": ".py",
   "mimetype": "text/x-python",
   "name": "python",
   "nbconvert_exporter": "python",
   "pygments_lexer": "ipython3",
   "version": "3.11.1"
  }
 },
 "nbformat": 4,
 "nbformat_minor": 5
}
