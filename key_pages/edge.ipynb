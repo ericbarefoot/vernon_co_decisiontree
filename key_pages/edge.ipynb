{
 "cells": [
  {
   "cell_type": "markdown",
   "id": "487e2b86-81d8-4455-b454-6f088662ab1a",
   "metadata": {},
   "source": [
    "# Edge-of-Field BMPs\n",
    "\n",
    "Text Text Text Text Text Text Text Text Text Text Text Text Text Text Text Text Text Text Text Text Text Text Text Text Text Text Text Text Text Text Text Text Text Text Text Text Text Text Text Text Text Text Text Text Text Text Text Text Text Text Text Text Text Text Text Text Text Text Text Text Text Text Text Text \n",
    "\n",
    ":::{card} Field Borders\n",
    ":link: ../bmp_pages/field-borders\n",
    ":link-type: doc\n",
    ":::\n",
    "\n",
    ":::{card} Filter Strips\n",
    ":link: ../bmp_pages/filter-strips\n",
    ":link-type: doc\n",
    ":::\n",
    "\n",
    ":::{card} Headland\n",
    ":link: ../bmp_pages/headland-hay\n",
    ":link-type: doc\n",
    ":::\n",
    "\n",
    ":::{card} Prairie and Pollinator plantings\n",
    ":link: ../bmp_pages/pollinator-prairie\n",
    ":link-type: doc\n",
    ":::"
   ]
  }
 ],
 "metadata": {
  "kernelspec": {
   "display_name": "Python 3 (ipykernel)",
   "language": "python",
   "name": "python3"
  },
  "language_info": {
   "codemirror_mode": {
    "name": "ipython",
    "version": 3
   },
   "file_extension": ".py",
   "mimetype": "text/x-python",
   "name": "python",
   "nbconvert_exporter": "python",
   "pygments_lexer": "ipython3",
   "version": "3.11.1"
  }
 },
 "nbformat": 4,
 "nbformat_minor": 5
}
