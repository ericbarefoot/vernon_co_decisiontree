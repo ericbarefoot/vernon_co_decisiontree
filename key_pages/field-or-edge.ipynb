{
 "cells": [
  {
   "cell_type": "markdown",
   "id": "afb0cd41-68b9-41b2-aab0-6c51f816f30d",
   "metadata": {},
   "source": [
    "# In-field or Field-edge practices\n",
    "\n",
    "::::{grid}\n",
    ":gutter: 2\n",
    "\n",
    ":::{grid-item-card} Edge-of-field BMPs\n",
    ":link: edge\n",
    ":link-type: doc\n",
    ":::\n",
    "\n",
    ":::{grid-item-card} In-field BMPs\n",
    ":link: infield\n",
    ":link-type: doc\n",
    ":::\n",
    "\n",
    "::::"
   ]
  }
 ],
 "metadata": {
  "kernelspec": {
   "display_name": "Python 3 (ipykernel)",
   "language": "python",
   "name": "python3"
  },
  "language_info": {
   "codemirror_mode": {
    "name": "ipython",
    "version": 3
   },
   "file_extension": ".py",
   "mimetype": "text/x-python",
   "name": "python",
   "nbconvert_exporter": "python",
   "pygments_lexer": "ipython3",
   "version": "3.11.1"
  }
 },
 "nbformat": 4,
 "nbformat_minor": 5
}
