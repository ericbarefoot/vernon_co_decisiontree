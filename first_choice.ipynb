{
 "cells": [
  {
   "cell_type": "markdown",
   "id": "e22fbe14-8ff8-4c6b-8a5c-0a3eb5e255db",
   "metadata": {
    "jp-MarkdownHeadingCollapsed": true,
    "tags": []
   },
   "source": [
    "# Start Here\n",
    "\n",
    "This is your starting place. So you want to change _something_ about how you are farming right now, and you want to know what your options are, and how you might do it better or for cheaper. You're in the right place. \n",
    "\n",
    "This guide is mostly focused on \"Best Management Practices.\" That sounds vague, but it actually means something pretty specific. BMPs are anything you do on your land to stop soil erosion, prevent and control flooding, and keep the soil and water healthy. There are two big ways to do this, and in general, its about controlling water. \n",
    "\n",
    "There, we said it. All of this is about different ways to control water so that it doesn't scrape away your topsoil, kill the fish in the streams, or rise up and flood you and your neighbors downstream.\n",
    "\n",
    "With that in mind, your first step is to decide: (1) do you want to control the water by moving earth so that you can hold water or send it somewhere else or (2) do you want to change how you use your land to slow that water down and keep it from causing problems. \n",
    "\n",
    "Both of these are fine choices, but they are fundamentally different ways of solving problems. You should probably explore all options, but if you are pretty sure you want to go one way or another, make a choice below. \n",
    "\n",
    "::::{grid}\n",
    ":gutter: 2\n",
    "\n",
    ":::{grid-item-card} Change Land Use Practices\n",
    ":link: key_pages/stock_or_not\n",
    ":link-type: doc\n",
    ":::\n",
    "\n",
    ":::{grid-item-card} Earthworks and Infrastructure\n",
    ":link: key_pages/stop_or_redirect\n",
    ":link-type: doc\n",
    ":::\n",
    "\n",
    "::::\n",
    "\n",
    "<!-- (bgi_here)=\n",
    "\n",
    "You have the opportunity to do so with \"blue-green infrastructure.\" This just means you can make some changes to how you manage your land that allow the natural world to work against flooding. If you and all your neighbors do the same thing, then the impacts will add up fast. \n",
    "\n",
    "- [My land is in the uplands and hilltops](key_pages/uplands)\n",
    "- [My land is in a valley bottom (lowland)](key_pages/lowlands) -->"
   ]
  }
 ],
 "metadata": {
  "kernelspec": {
   "display_name": "Python 3 (ipykernel)",
   "language": "python",
   "name": "python3"
  },
  "language_info": {
   "codemirror_mode": {
    "name": "ipython",
    "version": 3
   },
   "file_extension": ".py",
   "mimetype": "text/x-python",
   "name": "python",
   "nbconvert_exporter": "python",
   "pygments_lexer": "ipython3",
   "version": "3.11.1"
  }
 },
 "nbformat": 4,
 "nbformat_minor": 5
}
