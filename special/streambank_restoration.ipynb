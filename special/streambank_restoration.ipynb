{
 "cells": [
  {
   "cell_type": "markdown",
   "id": "d620fab1-4bf1-438c-825c-7eab0911284a",
   "metadata": {},
   "source": [
    "# Streambank Restoration"
   ]
  }
 ],
 "metadata": {
  "kernelspec": {
   "display_name": "Python 3 (ipykernel)",
   "language": "python",
   "name": "python3"
  },
  "language_info": {
   "codemirror_mode": {
    "name": "ipython",
    "version": 3
   },
   "file_extension": ".py",
   "mimetype": "text/x-python",
   "name": "python",
   "nbconvert_exporter": "python",
   "pygments_lexer": "ipython3",
   "version": "3.11.1"
  }
 },
 "nbformat": 4,
 "nbformat_minor": 5
}
