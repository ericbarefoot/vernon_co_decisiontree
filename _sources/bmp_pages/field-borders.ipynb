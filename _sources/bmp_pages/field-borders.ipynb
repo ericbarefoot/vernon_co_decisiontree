{
 "cells": [
  {
   "cell_type": "markdown",
   "id": "2590329f-fbf6-4f10-a0dc-759d5d0cb3a7",
   "metadata": {},
   "source": [
    "# Field Borders"
   ]
  }
 ],
 "metadata": {
  "kernelspec": {
   "display_name": "Python 3 (ipykernel)",
   "language": "python",
   "name": "python3"
  },
  "language_info": {
   "codemirror_mode": {
    "name": "ipython",
    "version": 3
   },
   "file_extension": ".py",
   "mimetype": "text/x-python",
   "name": "python",
   "nbconvert_exporter": "python",
   "pygments_lexer": "ipython3",
   "version": "3.11.1"
  }
 },
 "nbformat": 4,
 "nbformat_minor": 5
}
