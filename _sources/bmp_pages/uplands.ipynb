{
 "cells": [
  {
   "cell_type": "markdown",
   "id": "71ce68d4-5db0-4501-888e-b97637604cb2",
   "metadata": {},
   "source": [
    "# Uplands BMPs\n",
    "\n",
    "This is where you can explore change that you could make to your environment if you live on hilltops and in the uplands to help manage downstream flood risk.\n",
    "\n",
    "Make an choice between these options to learn more.\n",
    "\n",
    "- [changes to field management](fields)\n",
    "- [changes to streams and rivers](streams)\n",
    "- [changes to ditches and swales](swales)\n",
    "- [changes to woodlands](woodlands)"
   ]
  }
 ],
 "metadata": {
  "kernelspec": {
   "display_name": "Python 3 (ipykernel)",
   "language": "python",
   "name": "python3"
  },
  "language_info": {
   "codemirror_mode": {
    "name": "ipython",
    "version": 3
   },
   "file_extension": ".py",
   "mimetype": "text/x-python",
   "name": "python",
   "nbconvert_exporter": "python",
   "pygments_lexer": "ipython3",
   "version": "3.11.1"
  }
 },
 "nbformat": 4,
 "nbformat_minor": 5
}
