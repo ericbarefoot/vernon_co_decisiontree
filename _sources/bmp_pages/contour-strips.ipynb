{
 "cells": [
  {
   "cell_type": "markdown",
   "id": "0c3525fb-8234-4cc5-b7ea-4a537f0c7edd",
   "metadata": {},
   "source": [
    "# Contour Strip Cropping\n",
    "\n",
    "```{image} bmp-images/contour-strip.png\n",
    ":alt: Example of contour strip cropping\n",
    ":class: bg-primary mb-1\n",
    ":width: 50%\n",
    ":align: center\n",
    "```\n",
    "\n",
    "```{admonition} Definition\n",
    ":class: note\n",
    "Growing alternating crops in equal width strips along the contour of a sloping landscape.\n",
    "```\n",
    "\n",
    "How it works: When water runs downhill it flows along the steepest path. As water keeps flowing along the steepest path on the slope, it picks up sediment, soil, and fertilizer.  You can prevent erosion in your field, and reduce the intensity of floods, by slowing that water down. Contour strip cropping puts alternating barriers perpendicular to the flowing water, so that the water has to slow down. The water can’t build up momentum because there’s always something different in its way.\n",
    "\n",
    ":::{card} Click here to explore the USDA NRCS documentation\n",
    ":link: https://efotg.sc.egov.usda.gov/api/CPSFile/31550/410_WI_CPS_Grade_Stabilization_Structure_2021\n",
    ":link-type: url\n",
    ":::\n",
    "\n",
    "| Benefits | Drawbacks |\n",
    "|---|---|\n",
    "| Effective way to slow erosion | Requires new planting patterns and planning |\n",
    "| No new infrastructure required | May require new equipment |\n",
    "| Increases water infiltration | Strips cannot be larger than 90 feet wide|\n",
    "| GPS technology makes farming along contours easy |  |\n",
    "| Changes are temporary, and easily removed |  |\n",
    "\n",
    "\n",
    "\n",
    "\n",
    "\n",
    "\n"
   ]
  }
 ],
 "metadata": {
  "kernelspec": {
   "display_name": "Python 3 (ipykernel)",
   "language": "python",
   "name": "python3"
  },
  "language_info": {
   "codemirror_mode": {
    "name": "ipython",
    "version": 3
   },
   "file_extension": ".py",
   "mimetype": "text/x-python",
   "name": "python",
   "nbconvert_exporter": "python",
   "pygments_lexer": "ipython3",
   "version": "3.11.1"
  }
 },
 "nbformat": 4,
 "nbformat_minor": 5
}
