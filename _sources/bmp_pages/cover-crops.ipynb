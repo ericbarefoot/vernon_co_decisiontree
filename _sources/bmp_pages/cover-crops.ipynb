{
 "cells": [
  {
   "cell_type": "markdown",
   "id": "e2ff7919-e2d4-4824-a857-dedafa45bf42",
   "metadata": {},
   "source": [
    "# Cover Crops\n",
    "\n",
    "```{image} bmp-images/conservation-cover.png\n",
    ":alt: Example of conservation cover\n",
    ":class: bg-primary mb-1\n",
    ":width: 50%\n",
    ":align: center\n",
    "```\n",
    "\n",
    "```{admonition} Definition\n",
    ":class: note\n",
    "Grasses, small grains, legumes, forbs, and/or other herbaceous plants established for seasonal cover and conservation purposes. \n",
    "```\n",
    "\n",
    "How it works:  Instead of simply harvesting and leaving the soil bare over the winter, you can plant a cover crop that prevents soil erosion, injects nitrogen back into the soil, and protects the soil until the next planting.  This has the side benefit of increasing water infiltration, because cover crops slow down water, and direct it to their roots. During springtime rains, this could be very beneficial to dampening flood peaks.\n",
    "\n",
    ":::{card} Click here to explore the USDA NRCS documentation\n",
    ":link: https://efotg.sc.egov.usda.gov/api/CPSFile/1347/340_WI_CPS_Cover_Crop_2015\n",
    ":link-type: url\n",
    ":::\n",
    "\n",
    "| Benefits | Drawbacks |\n",
    "|---|---|\n",
    "| Effective way to slow erosion | Requires a second planting |\n",
    "| No new infrastructure required |  |\n",
    "| Increases water infiltration | |\n",
    "| Restores soil health |  |\n",
    "| Can be used to enrich soils in nitrogen | | "
   ]
  }
 ],
 "metadata": {
  "kernelspec": {
   "display_name": "Python 3 (ipykernel)",
   "language": "python",
   "name": "python3"
  },
  "language_info": {
   "codemirror_mode": {
    "name": "ipython",
    "version": 3
   },
   "file_extension": ".py",
   "mimetype": "text/x-python",
   "name": "python",
   "nbconvert_exporter": "python",
   "pygments_lexer": "ipython3",
   "version": "3.11.1"
  }
 },
 "nbformat": 4,
 "nbformat_minor": 5
}
