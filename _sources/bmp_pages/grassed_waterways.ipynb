{
 "cells": [
  {
   "cell_type": "markdown",
   "id": "0a12ce83-b02f-4169-8dd9-12b20195c51c",
   "metadata": {},
   "source": [
    "# Grassed Waterways\n",
    "\n",
    "```{image} bmp-images/conservation-cover.png\n",
    ":alt: Example of conservation cover\n",
    ":class: bg-primary mb-1\n",
    ":width: 50%\n",
    ":align: center\n",
    "```\n",
    "\n",
    "```{admonition} Definition\n",
    ":class: note\n",
    "Planting grass and changing the shape of a swale or a ditch to slow down the water running through the ditch.\n",
    "```\n",
    "\n",
    "How it works: If you have swales or ditches on your property where water collects to run downstream, chances are these are hot spots for erosion and soil loss.  Swales and ditches also  concentrate the flow of water and  accelerate it downstream. Unchecked,  that water can accumulate with water from swales all across the watershed, and ultimately lead to flooding downstream. One of the best ways to slow that water down  while preventing flooding on your property is to focus that water into a grassed waterway.  Grassed waterways  are shaped or graded channels established with suitable vegetation to convey surface water at a non erosive velocity.  are wider and shallower than many ditches, with gently sloping sides.  Because the  water has to flow through grass,  it slows down and fills the swale.  Some of the water percolates into the ground,  and the rest of it drains away slowly. Think of it like a temporary holding tank. By holding on to and directing the water for a little bit longer in a dedicated part of your field, you prevent damage to other parts of your property, while  also dampening floods downstream.\n",
    "\n",
    ":::{card} Click here to explore the USDA NRCS documentation\n",
    ":link: https://efotg.sc.egov.usda.gov/api/CPSFile/31556/412_WI_CPS_Grassed_Waterway_2021\n",
    ":link-type: url\n",
    ":::\n",
    "\n",
    "| Benefits | Drawbacks |\n",
    "|---|---|\n",
    "| Effective way to slow erosion | Removes land from production indefinitely |\n",
    "| No new infrastructure required | Requires mowing and maintenance |\n",
    "| Increases water infiltration | |\n",
    "| Prevents water pollution |  |\n",
    "|Slows runoff in gullies and rills||"
   ]
  }
 ],
 "metadata": {
  "kernelspec": {
   "display_name": "Python 3 (ipykernel)",
   "language": "python",
   "name": "python3"
  },
  "language_info": {
   "codemirror_mode": {
    "name": "ipython",
    "version": 3
   },
   "file_extension": ".py",
   "mimetype": "text/x-python",
   "name": "python",
   "nbconvert_exporter": "python",
   "pygments_lexer": "ipython3",
   "version": "3.11.1"
  }
 },
 "nbformat": 4,
 "nbformat_minor": 5
}
