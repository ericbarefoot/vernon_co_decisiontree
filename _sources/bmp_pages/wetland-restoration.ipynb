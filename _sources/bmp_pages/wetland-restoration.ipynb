{
 "cells": [
  {
   "cell_type": "markdown",
   "id": "6b5c1abd-be9a-4a30-adaf-384476476dc1",
   "metadata": {},
   "source": [
    "# Wetland Restoration\n",
    "\n",
    "```{admonition} Head's up!\n",
    ":class: danger\n",
    "Wetland Restoration projects can be very valuable for your land, for the environment and for the community. However, they are **expensive** and they are **challenging**, so you want to get it right the first time. If they are not executed well, you may not get much benefit, and the outcomes can get you in trouble with environmental regulations. If you are considering doing this on your land, it can be a great choice, but you should seek help from your Land and Water Conservation office. They can help you navigate the regulations and seek funding to cover your expenses. Make sure your project doesn't backfire!\n",
    "```\n",
    "\n",
    "```{image} bmp-images/conservation-cover.png\n",
    ":alt: Example of conservation cover\n",
    ":class: bg-primary mb-1\n",
    ":width: 50%\n",
    ":align: center\n",
    "```\n",
    "\n",
    "```{admonition} Definition\n",
    ":class: note\n",
    "Converting land into wetlands, or helping a wetland function better.\n",
    "```\n",
    "\n",
    "Why it works:  A wetland is a broad term encompassing swamps, bogs, and other similar habitats.  Wetlands provide a variety of different benefits to surrounding areas.  Often they are refuges for wildlife, they filter pollutants, and sometimes they even fight climate change by sequestering carbon.  Wetlands often occur in low flat areas near rivers and in the bottom of valleys. As such, they are often one of the first places that flood water goes when rivers flood. In this way, they behave a lot like a pressure release valve. They store water temporarily when there is too much, and then slowly release it after the flood recedes.  This is one of the best BMPs that can be implemented in lowland valleys. By restoring areas that were previously wetlands and connecting them to the river, you allow water to flow into those areas during floods, protecting other areas downstream.  Wetland restoration is a large undertaking, and a major effort.  By choosing to restore wetland land is removed from production and becomes a nature preserve, often attracting migrating birds. However, such a decision can make a big impact downstream. \n",
    "\n",
    "| Benefits | Drawbacks |\n",
    "|---|---|\n",
    "| Flood mitigation decision that can be made by valley-bottom communities | Land is sacrificed to protect others |\n",
    "| Creates recreation and hunting land | Can be extremely costly |\n",
    "| Increases water quality | Regulations make it difficult to do right |\n",
    "| Can enhance habitat for wildlife |  |\n",
    "\n",
    "\n",
    "**Explore the USDA NRCS standards and documentation**\n",
    "\n",
    "::::{grid}\n",
    ":gutter: 2\n",
    "\n",
    ":::{grid-item-card} Wetland Enhancement\n",
    ":link: https://efotg.sc.egov.usda.gov/api/CPSFile/2801/659_WI_CPS_Wetland_Enhancement_2015\n",
    ":link-type: url\n",
    ":::\n",
    "\n",
    ":::{grid-item-card} Wetland Restoration\n",
    ":link: https://efotg.sc.egov.usda.gov/api/CPSFile/34808/657_WI_CPS_Wetland_Restoration_2020\n",
    ":link-type: url\n",
    ":::\n",
    "\n",
    ":::{grid-item-card} Wetland Creation\n",
    ":link: https://efotg.sc.egov.usda.gov/api/CPSFile/42164/658_WI_CPS_Wetland_Creation_2023\n",
    ":link-type: url\n",
    ":::\n",
    "\n",
    "::::\n"
   ]
  }
 ],
 "metadata": {
  "kernelspec": {
   "display_name": "Python 3 (ipykernel)",
   "language": "python",
   "name": "python3"
  },
  "language_info": {
   "codemirror_mode": {
    "name": "ipython",
    "version": 3
   },
   "file_extension": ".py",
   "mimetype": "text/x-python",
   "name": "python",
   "nbconvert_exporter": "python",
   "pygments_lexer": "ipython3",
   "version": "3.11.1"
  }
 },
 "nbformat": 4,
 "nbformat_minor": 5
}
