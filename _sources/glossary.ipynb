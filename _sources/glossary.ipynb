{
 "cells": [
  {
   "cell_type": "markdown",
   "id": "9105695b-d45a-4562-867c-d761ba641799",
   "metadata": {},
   "source": [
    "# Glossary\n",
    "\n",
    "|Word | Definition| used on page |\n",
    "|----|----|---|\n",
    "|blue-green infrastructure.| A long definition: Sed a condimentum urna, accumsan pulvinar tortor. Curabitur ex mi, hendrerit non eros faucibus, placerat suscipit diam. Etiam quis felis eget urna efficitur consectetur.| [here](bgi_here) |\n",
    "| | | |\n",
    "| | | |\n",
    "| | | |\n",
    "| | | |\n",
    "| | | |\n",
    "| | | |\n",
    "| | | |\n",
    "| | | |\n"
   ]
  }
 ],
 "metadata": {
  "kernelspec": {
   "display_name": "Python 3 (ipykernel)",
   "language": "python",
   "name": "python3"
  },
  "language_info": {
   "codemirror_mode": {
    "name": "ipython",
    "version": 3
   },
   "file_extension": ".py",
   "mimetype": "text/x-python",
   "name": "python",
   "nbconvert_exporter": "python",
   "pygments_lexer": "ipython3",
   "version": "3.11.1"
  }
 },
 "nbformat": 4,
 "nbformat_minor": 5
}
