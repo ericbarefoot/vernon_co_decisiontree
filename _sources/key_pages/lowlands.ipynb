{
 "cells": [
  {
   "cell_type": "markdown",
   "id": "f26a70b1-1a32-481e-a609-d533d34d69c8",
   "metadata": {},
   "source": [
    "# Lowlands BMPs\n",
    "\n",
    "Options for managing flood waters are more challenging in low-end environments, because typically all of the water from the uplands washes downstream and collects in the lowlands. This makes it difficult to manage the sheer volume of water. However, there are many solutions that may be feasible you know valley bottom context.\n",
    "\n",
    "- [changes to wetland management](wetland)\n",
    "- [changes to streams and rivers](streams)"
   ]
  }
 ],
 "metadata": {
  "kernelspec": {
   "display_name": "Python 3 (ipykernel)",
   "language": "python",
   "name": "python3"
  },
  "language_info": {
   "codemirror_mode": {
    "name": "ipython",
    "version": 3
   },
   "file_extension": ".py",
   "mimetype": "text/x-python",
   "name": "python",
   "nbconvert_exporter": "python",
   "pygments_lexer": "ipython3",
   "version": "3.11.1"
  }
 },
 "nbformat": 4,
 "nbformat_minor": 5
}
