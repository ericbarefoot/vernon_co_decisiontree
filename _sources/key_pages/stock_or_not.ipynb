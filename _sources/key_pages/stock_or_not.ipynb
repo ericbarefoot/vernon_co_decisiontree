{
 "cells": [
  {
   "cell_type": "markdown",
   "id": "090d3b03-9cc6-4b33-af1f-d1d8a4d1b787",
   "metadata": {},
   "source": [
    "# Stock or no Stock?\n",
    "\n",
    "If you are going to implement some BMPs to improve soil on your land and contribute to preventing flooding downstream, there's one big thing that's going to dictate your choices: is your land for livestock, or do you grow crops on it?\n",
    "\n",
    "\n",
    "::::{grid}\n",
    ":gutter: 2\n",
    "\n",
    ":::{grid-item-card} Livestock\n",
    ":link: managed-grazing\n",
    ":link-type: doc\n",
    ":::\n",
    "\n",
    ":::{grid-item-card} Cropland\n",
    ":link: field-or-edge\n",
    ":link-type: doc\n",
    ":::\n",
    "\n",
    "::::"
   ]
  }
 ],
 "metadata": {
  "kernelspec": {
   "display_name": "Python 3 (ipykernel)",
   "language": "python",
   "name": "python3"
  },
  "language_info": {
   "codemirror_mode": {
    "name": "ipython",
    "version": 3
   },
   "file_extension": ".py",
   "mimetype": "text/x-python",
   "name": "python",
   "nbconvert_exporter": "python",
   "pygments_lexer": "ipython3",
   "version": "3.11.1"
  }
 },
 "nbformat": 4,
 "nbformat_minor": 5
}
