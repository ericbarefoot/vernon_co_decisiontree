{
 "cells": [
  {
   "cell_type": "markdown",
   "id": "6b445f36-9e33-47b4-987a-9eeb3603bf00",
   "metadata": {},
   "source": [
    "# Redirect\n",
    "\n",
    "By redirecting water, you can keep it away from building foundations, send it to areas where erosion isn't a concern, and keep it from eroding soil. Water flows downhill, so to change how water flows across your land, you have to change where \"downhill\" is. There are several accepted NRCS practices that do this.\n",
    "\n",
    ":::{card} Grassed Waterways\n",
    ":link: ../bmp_pages/grassed_waterways\n",
    ":link-type: doc\n",
    ":::\n",
    "\n",
    ":::{card} Swales\n",
    ":link: ../bmp_pages/swales\n",
    ":link-type: doc\n",
    ":::\n",
    "\n",
    ":::{card} Terraces\n",
    ":link: ../bmp_pages/terrace\n",
    ":link-type: doc\n",
    ":::\n",
    "\n",
    ":::{card} Diversions\n",
    ":link: ../bmp_pages/diversion\n",
    ":link-type: doc\n",
    ":::\n"
   ]
  }
 ],
 "metadata": {
  "kernelspec": {
   "display_name": "Python 3 (ipykernel)",
   "language": "python",
   "name": "python3"
  },
  "language_info": {
   "codemirror_mode": {
    "name": "ipython",
    "version": 3
   },
   "file_extension": ".py",
   "mimetype": "text/x-python",
   "name": "python",
   "nbconvert_exporter": "python",
   "pygments_lexer": "ipython3",
   "version": "3.11.1"
  }
 },
 "nbformat": 4,
 "nbformat_minor": 5
}
