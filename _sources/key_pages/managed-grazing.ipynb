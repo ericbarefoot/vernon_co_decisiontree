{
 "cells": [
  {
   "cell_type": "markdown",
   "id": "d4c73e43-6cf8-43dc-b1de-06a110d1e26c",
   "metadata": {},
   "source": [
    "# Managing your grazing and livestock\n",
    "\n",
    "Text Text Text Text Text Text Text Text Text Text Text Text Text Text Text Text Text Text Text Text Text Text Text Text Text Text Text Text Text Text Text Text Text Text Text Text Text Text Text Text Text Text Text Text Text Text Text Text Text Text Text Text Text Text Text Text Text Text Text Text Text Text Text Text \n",
    "\n",
    "Basically, you can either choose to manage your livestock with a managed/prescribed grazing program or you can concentrate your livestock and manage their manure yourself. \n",
    "\n",
    "::::{grid}\n",
    ":gutter: 2\n",
    "\n",
    ":::{grid-item-card} Prescribed Grazing\n",
    ":link: ../bmp_pages/prescribed-grazing\n",
    ":link-type: doc\n",
    ":::\n",
    "\n",
    ":::{grid-item-card} Manure Management\n",
    ":link: ../bmp_pages/manure-management\n",
    ":link-type: doc\n",
    ":::\n",
    "\n",
    "::::"
   ]
  }
 ],
 "metadata": {
  "kernelspec": {
   "display_name": "Python 3 (ipykernel)",
   "language": "python",
   "name": "python3"
  },
  "language_info": {
   "codemirror_mode": {
    "name": "ipython",
    "version": 3
   },
   "file_extension": ".py",
   "mimetype": "text/x-python",
   "name": "python",
   "nbconvert_exporter": "python",
   "pygments_lexer": "ipython3",
   "version": "3.11.1"
  }
 },
 "nbformat": 4,
 "nbformat_minor": 5
}
