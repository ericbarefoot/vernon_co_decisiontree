{
 "cells": [
  {
   "cell_type": "markdown",
   "id": "892e0c9b-d856-4131-9373-a61b9655714a",
   "metadata": {},
   "source": [
    "# Stop or Redirect?\n",
    "\n",
    "If you are interested in moving earth to control the flow of water, you will want to choose between two main ways: Either you can stop the water and hold onto it to let it go slowly later, or you can force it to flow in the direction you want. \n",
    "\n",
    "::::{grid}\n",
    ":gutter: 2\n",
    "\n",
    ":::{grid-item-card} Stop the water\n",
    ":link: stop\n",
    ":link-type: doc\n",
    ":::\n",
    "\n",
    ":::{grid-item-card} Redirect the water\n",
    ":link: redirect\n",
    ":link-type: doc\n",
    ":::\n",
    "\n",
    "::::"
   ]
  }
 ],
 "metadata": {
  "kernelspec": {
   "display_name": "Python 3 (ipykernel)",
   "language": "python",
   "name": "python3"
  },
  "language_info": {
   "codemirror_mode": {
    "name": "ipython",
    "version": 3
   },
   "file_extension": ".py",
   "mimetype": "text/x-python",
   "name": "python",
   "nbconvert_exporter": "python",
   "pygments_lexer": "ipython3",
   "version": "3.11.1"
  }
 },
 "nbformat": 4,
 "nbformat_minor": 5
}
