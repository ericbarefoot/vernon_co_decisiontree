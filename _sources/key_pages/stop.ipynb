{
 "cells": [
  {
   "cell_type": "markdown",
   "id": "6ab9453a-02dc-4330-890d-fe48a1d4db32",
   "metadata": {},
   "source": [
    "# Stop\n",
    "\n",
    "If you build a place to collect it, you can hold water up and keep it from making water erosion elsewhere worse, and hold onto it for a dry day. There are several accepted NRCS practices that do this. They all generally fall under the name \"Grade Stabilization Structures\"\n",
    "\n",
    ":::{card} Grade Stabilization Structures\n",
    ":link: ../bmp_pages/grade_stabilization\n",
    ":link-type: doc\n",
    ":::"
   ]
  }
 ],
 "metadata": {
  "kernelspec": {
   "display_name": "Python 3 (ipykernel)",
   "language": "python",
   "name": "python3"
  },
  "language_info": {
   "codemirror_mode": {
    "name": "ipython",
    "version": 3
   },
   "file_extension": ".py",
   "mimetype": "text/x-python",
   "name": "python",
   "nbconvert_exporter": "python",
   "pygments_lexer": "ipython3",
   "version": "3.11.1"
  }
 },
 "nbformat": 4,
 "nbformat_minor": 5
}
