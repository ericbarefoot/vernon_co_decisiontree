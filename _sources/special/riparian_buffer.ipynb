{
 "cells": [
  {
   "cell_type": "markdown",
   "id": "0d04a9da-a97e-40fe-b716-c115cccec613",
   "metadata": {},
   "source": [
    "# Riparian Buffers Fencing, and access"
   ]
  }
 ],
 "metadata": {
  "kernelspec": {
   "display_name": "Python 3 (ipykernel)",
   "language": "python",
   "name": "python3"
  },
  "language_info": {
   "codemirror_mode": {
    "name": "ipython",
    "version": 3
   },
   "file_extension": ".py",
   "mimetype": "text/x-python",
   "name": "python",
   "nbconvert_exporter": "python",
   "pygments_lexer": "ipython3",
   "version": "3.11.1"
  }
 },
 "nbformat": 4,
 "nbformat_minor": 5
}
