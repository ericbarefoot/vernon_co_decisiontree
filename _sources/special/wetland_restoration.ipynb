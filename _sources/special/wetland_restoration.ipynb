{
 "cells": [
  {
   "cell_type": "markdown",
   "id": "9d089d04-e943-40f9-88a9-f584c2f772ce",
   "metadata": {},
   "source": [
    "# Wetland Restoration"
   ]
  }
 ],
 "metadata": {
  "kernelspec": {
   "display_name": "Python 3 (ipykernel)",
   "language": "python",
   "name": "python3"
  },
  "language_info": {
   "codemirror_mode": {
    "name": "ipython",
    "version": 3
   },
   "file_extension": ".py",
   "mimetype": "text/x-python",
   "name": "python",
   "nbconvert_exporter": "python",
   "pygments_lexer": "ipython3",
   "version": "3.11.1"
  }
 },
 "nbformat": 4,
 "nbformat_minor": 5
}
